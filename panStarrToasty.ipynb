{
 "cells": [
  {
   "cell_type": "code",
   "execution_count": 35,
   "metadata": {
    "collapsed": false
   },
   "outputs": [],
   "source": [
    "%matplotlib inline\n",
    "import matplotlib.pyplot as plt\n",
    "import numpy as np\n",
    "\n",
    "from astropy.io import fits, ascii\n",
    "from astropy import wcs\n",
    "from astropy.coordinates import SkyCoord\n",
    "from astropy import units as u\n",
    "\n",
    "from IPython.display import Image\n",
    "from skimage.io import imread\n",
    "\n",
    "from toasty import toast, cartesian_sampler, normalizer\n",
    "\n",
    "from collections import namedtuple\n",
    "\n",
    "import ps1skycell_toast as pssc\n",
    "\n",
    "import time"
   ]
  },
  {
   "cell_type": "code",
   "execution_count": 2,
   "metadata": {
    "collapsed": true
   },
   "outputs": [],
   "source": [
    "def minmax(arr):\n",
    "    return [min(arr),max(arr)]"
   ]
  },
  {
   "cell_type": "code",
   "execution_count": null,
   "metadata": {
    "collapsed": true
   },
   "outputs": [],
   "source": [
    "def M101Sampler():\n",
    "    \n",
    "    def vec2Pix(raArr,decArr):\n",
    "        \n",
    "        tile = np.zeros(raArr.shape)\n",
    "        \n",
    "        raArr[raArr < 0] += 2 * np.pi # making all ras 0 - 2pi\n",
    "        \n",
    "        raCorners = np.array([raArr[0][0],raArr[0][-1],raArr[-1][0],raArr[-1][-1]])\n",
    "        decCorners = np.array([decArr[0][0],decArr[0][-1],decArr[-1][0],decArr[-1][-1]])       \n",
    "        minRa = min(raCorners)\n",
    "        maxRa = max(raCorners)\n",
    "        minDec = min(decCorners)\n",
    "        maxDec = max(decCorners)\n",
    "\n",
    "        \n",
    "        #   THIS IS ALL TEMPORARY \n",
    "        m101Pos = SkyCoord(210.79995, 54.34410, frame='icrs', unit='deg')\n",
    "        if ((m101Pos.ra.rad >= minRa) and (m101Pos.ra.rad <= maxRa)):\n",
    "            if ((m101Pos.dec.rad >= minDec) and (m101Pos.dec.rad <= maxDec)):\n",
    "   \n",
    "                fitsFile = fits.open('rings.v3.skycell.2381.053.stk.r.unconv.fits')\n",
    "                rfWcs = wcs.WCS(fitsFile[1].header)\n",
    "                footprint=np.array([SkyCoord(*x,frame='icrs',unit='deg') for x in rfWcs.calc_footprint(fitsFile[1].header) ])\n",
    "                imgData = fitsFile[1].data\n",
    "                fitsFile.close()\n",
    "                \n",
    "                fpMinRa = min(x.ra.rad for x in footprint)#(min(footprint[:,0])*u.deg).to(u.rad)\n",
    "                fpMaxRa = max(x.ra.rad for x in footprint)#(max(footprint[:,0])*u.deg).to(u.rad)\n",
    "                fpMinDec = min(x.dec.rad for x in footprint)#(min(footprint[:,1])*u.deg).to(u.rad)\n",
    "                fpMaxDec = max(x.dec.rad for x in footprint)#(max(footprint[:,1])*u.deg).to(u.rad)\n",
    "\n",
    "                print(\"woot\")\n",
    "                fpMask = (raArr <= fpMaxRa)  & (raArr >= fpMinRa) & (decArr <= fpMaxDec) & (decArr >= fpMinDec)\n",
    "                print(np.sum(fpMask))\n",
    "                print(fpMinRa,fpMaxRa)\n",
    "                print(fpMinDec,fpMaxDec)\n",
    "                print()\n",
    "                \n",
    "                ny, nx = imgData.shape[0:2]    \n",
    "                \n",
    "                tile[fpMask] = imgData[(ny*(decArr - fpMinDec)/(fpMaxDec - fpMinDec)).astype(int)[fpMask],\n",
    "                                       (nx*(1-(raArr - fpMinRa)/(fpMaxRa - fpMinRa))).astype(int)[fpMask]]\n",
    "                                \n",
    "        # ^ THIS IS ALL TEMPORARY ^\n",
    "\n",
    "        \n",
    "        \n",
    "        return tile\n",
    "    \n",
    "    return vec2Pix"
   ]
  },
  {
   "cell_type": "code",
   "execution_count": null,
   "metadata": {
    "collapsed": false
   },
   "outputs": [],
   "source": [
    "sampler = normalizer(M101Sampler(),-3,10)\n",
    "output = 'toasts/ps1_M101'\n",
    "depth = 8  \n",
    "toast(sampler, depth, output, ra_range=[205,215],dec_range=[50,60])"
   ]
  },
  {
   "cell_type": "code",
   "execution_count": null,
   "metadata": {
    "collapsed": false
   },
   "outputs": [],
   "source": [
    "sampler = 'toasts/ps1_bottom'\n",
    "output = 'toasts/ps1_bottom'\n",
    "depth = 4 \n",
    "toast(sampler, depth, output)"
   ]
  },
  {
   "cell_type": "code",
   "execution_count": 46,
   "metadata": {
    "collapsed": true
   },
   "outputs": [],
   "source": [
    "Data = namedtuple('Data','img cnt')\n",
    "\n",
    "class fitsCache:\n",
    "    \"\"\"\"Caching for fitfile image data\"\"\"\n",
    "    def __init__(self,maxItems):\n",
    "        self.cache = {}\n",
    "        self.count = 0\n",
    "        self.maxItms = maxItems\n",
    "        \n",
    "    def remove(self,filename):\n",
    "        if filename not in self.cache:\n",
    "            return\n",
    "        del(self.cache[filename])\n",
    "    \n",
    "    def oldest(self):\n",
    "        return sorted([(y.cnt,x) for x,y in seltf.cache.items()])[0][1]\n",
    "    \n",
    "    def add(self,filename):\n",
    "        if len(self.cache) == self.maxItms:\n",
    "            self.remove(self.oldest())\n",
    "        fitsfile = fits.open(filename)\n",
    "        self.cache[filename] = Data(img=fitsfile[1].data,cnt=self.count)\n",
    "        fitsfile.close()\n",
    "        self.count += 1\n",
    "\n",
    "    def get(self,filename):\n",
    "        if filename not in self.cache:\n",
    "            self.add(filename)\n",
    "        return self.cache[filename].img # MAKE SURE THIS IS NOT MAKING A COPY OF THE DATA\n",
    "    "
   ]
  },
  {
   "cell_type": "code",
   "execution_count": 47,
   "metadata": {
    "collapsed": true
   },
   "outputs": [],
   "source": [
    "psCache = fitsCache(10)"
   ]
  },
  {
   "cell_type": "code",
   "execution_count": 48,
   "metadata": {
    "collapsed": false
   },
   "outputs": [],
   "source": [
    "def panstarrsSampler():\n",
    "    \n",
    "    psCells = ascii.read(\"filter_r_rings.rpt\")\n",
    "    psSC2FileLoc = np.full((max(psCells['SCn']) + 1,max(psCells['SCm']) + 1),\"\",dtype='<U168')\n",
    "    #psSC2FileLoc[psCells['SCn'],psCells['SCm']] = psCells['fileNPath']\n",
    "    psSC2FileLoc[2404][5]  = \"RINGS.V3.skycell.2404.005.stk.4032678.unconv.fits\"\n",
    "    psSC2FileLoc[2381][62] = \"RINGS.V3.skycell.2381.062.stk.3906396.unconv.fits\"\n",
    "    psSC2FileLoc[2381][63] = \"RINGS.V3.skycell.2381.063.stk.3906397.unconv.fits\"\n",
    "    psSC2FileLoc[2381][64] = \"RINGS.V3.skycell.2381.064.stk.3906398.unconv.fits\"\n",
    "    psSC2FileLoc[2381][52] = \"RINGS.V3.skycell.2381.052.stk.3906388.unconv.fits\"\n",
    "    psSC2FileLoc[2381][53] = \"rings.v3.skycell.2381.053.stk.r.unconv.fits\" # M101\n",
    "    psSC2FileLoc[2381][54] = \"RINGS.V3.skycell.2381.054.stk.3906390.unconv.fits\"\n",
    "    psSC2FileLoc[2381][42] = \"RINGS.V3.skycell.2381.042.stk.3906380.unconv.fits\"\n",
    "    psSC2FileLoc[2381][43] = \"RINGS.V3.skycell.2381.043.stk.3906381.unconv.fits\"\n",
    "    psSC2FileLoc[2381][44] = \"RINGS.V3.skycell.2381.044.stk.3906382.unconv.fits\"\n",
    "                        \n",
    "    def vec2Pix(raArr,decArr):\n",
    "        \n",
    "        global psCache\n",
    "        \n",
    "        raArr[raArr < 0] += 2 * np.pi # making all ras 0 - 2pi\n",
    "        \n",
    "        # Getting info about skycell and pixel location for given ra/decs\n",
    "        pixelInfoArray = pssc.findskycell(np.rad2deg(raArr), np.rad2deg(decArr))\n",
    "            \n",
    "        # Getting the file paths and creating a unique list of them\n",
    "        fileLocByPix = psSC2FileLoc[pixelInfoArray['projcell'],pixelInfoArray['subcell']] \n",
    "        filePths = np.unique(fileLocByPix)\n",
    "        \n",
    "        # Getting the pixel indices\n",
    "        pixIndX = np.rint(pixelInfoArray['x']).astype(int)\n",
    "        pixIndY = np.rint(pixelInfoArray['y']).astype(int)\n",
    "        \n",
    "        \n",
    "        tile = np.zeros(raArr.shape) # this should be filled with whatever we want to signal \"no data\" \n",
    "                                     # I am currently using zero\n",
    "            \n",
    "        for dataFle in filePths:\n",
    "            if dataFle == '':\n",
    "                #print(\"File not available\")\n",
    "                continue\n",
    "            \n",
    "            #print(\"File location:\",dataFle)\n",
    "            \n",
    "            # getting the image data (will be rplaced by cache class)\n",
    "            #fitsFile = fits.open(dataFle)\n",
    "            #imgData = fitsFile[1].data\n",
    "            #fitsFile.close()   \n",
    "            imgData = psCache.get(dataFle)\n",
    "                \n",
    "            # getting the pixels we want out of this file\n",
    "            pix2Fill = (fileLocByPix == dataFle)\n",
    "            #print(\"Number of pixels to be filled:\",np.sum(pix2Fill))\n",
    "            tile[pix2Fill] = imgData[pixIndY[pix2Fill],pixIndX[pix2Fill]]   \n",
    "            \n",
    "        return tile   \n",
    "        \n",
    "    return vec2Pix"
   ]
  },
  {
   "cell_type": "code",
   "execution_count": 49,
   "metadata": {
    "collapsed": false
   },
   "outputs": [
    {
     "name": "stderr",
     "output_type": "stream",
     "text": [
      "Exception ignored in: <bound method FITS_rec.__del__ of FITS_rec([(array([101,   0], dtype=int32),),\n",
      "       (array([11133,   101], dtype=int32),),\n",
      "       (array([11136, 11234], dtype=int32),), ...,\n",
      "       (array([   11320, 68463836], dtype=int32),),\n",
      "       (array([   11328, 68475156], dtype=int32),),\n",
      "       (array([     101, 68486484], dtype=int32),)], \n",
      "      dtype=(numpy.record, [('COMPRESSED_DATA', '>i4', (2,))]))>\n",
      "Traceback (most recent call last):\n",
      "  File \"/Users/cbrasseur/anaconda/envs/toasty/lib/python3.5/site-packages/astropy/io/fits/fitsrec.py\", line 640, in __del__\n",
      "    del self._coldefs\n",
      "  File \"/Users/cbrasseur/anaconda/envs/toasty/lib/python3.5/site-packages/astropy/io/fits/fitsrec.py\", line 637, in _coldefs\n",
      "    raise AttributeError(exc.args[0])\n",
      "AttributeError: _coldefs\n",
      "Exception ignored in: <bound method FITS_rec.__del__ of FITS_rec([(array([101,   0], dtype=int32),),\n",
      "       (array([10173,   101], dtype=int32),),\n",
      "       (array([10174, 10274], dtype=int32),), ...,\n",
      "       (array([   10563, 68376228], dtype=int32),),\n",
      "       (array([   10572, 68386791], dtype=int32),),\n",
      "       (array([     101, 68397363], dtype=int32),)], \n",
      "      dtype=(numpy.record, [('COMPRESSED_DATA', '>i4', (2,))]))>\n",
      "Traceback (most recent call last):\n",
      "  File \"/Users/cbrasseur/anaconda/envs/toasty/lib/python3.5/site-packages/astropy/io/fits/fitsrec.py\", line 640, in __del__\n",
      "    del self._coldefs\n",
      "  File \"/Users/cbrasseur/anaconda/envs/toasty/lib/python3.5/site-packages/astropy/io/fits/fitsrec.py\", line 637, in _coldefs\n",
      "    raise AttributeError(exc.args[0])\n",
      "AttributeError: _coldefs\n",
      "Exception ignored in: <bound method FITS_rec.__del__ of FITS_rec([(array([101,   0], dtype=int32),),\n",
      "       (array([10308,   101], dtype=int32),),\n",
      "       (array([10348, 10409], dtype=int32),), ...,\n",
      "       (array([    9160, 68492531], dtype=int32),),\n",
      "       (array([    9207, 68501691], dtype=int32),),\n",
      "       (array([     101, 68510898], dtype=int32),)], \n",
      "      dtype=(numpy.record, [('COMPRESSED_DATA', '>i4', (2,))]))>\n",
      "Traceback (most recent call last):\n",
      "  File \"/Users/cbrasseur/anaconda/envs/toasty/lib/python3.5/site-packages/astropy/io/fits/fitsrec.py\", line 640, in __del__\n",
      "    del self._coldefs\n",
      "  File \"/Users/cbrasseur/anaconda/envs/toasty/lib/python3.5/site-packages/astropy/io/fits/fitsrec.py\", line 637, in _coldefs\n",
      "    raise AttributeError(exc.args[0])\n",
      "AttributeError: _coldefs\n",
      "Exception ignored in: <bound method FITS_rec.__del__ of FITS_rec([(array([101,   0], dtype=int32),),\n",
      "       (array([11437,   101], dtype=int32),),\n",
      "       (array([11306, 11538], dtype=int32),), ...,\n",
      "       (array([   11186, 68315494], dtype=int32),),\n",
      "       (array([   11278, 68326680], dtype=int32),),\n",
      "       (array([     101, 68337958], dtype=int32),)], \n",
      "      dtype=(numpy.record, [('COMPRESSED_DATA', '>i4', (2,))]))>\n",
      "Traceback (most recent call last):\n",
      "  File \"/Users/cbrasseur/anaconda/envs/toasty/lib/python3.5/site-packages/astropy/io/fits/fitsrec.py\", line 640, in __del__\n",
      "    del self._coldefs\n",
      "  File \"/Users/cbrasseur/anaconda/envs/toasty/lib/python3.5/site-packages/astropy/io/fits/fitsrec.py\", line 637, in _coldefs\n",
      "    raise AttributeError(exc.args[0])\n",
      "AttributeError: _coldefs\n",
      "Exception ignored in: <bound method FITS_rec.__del__ of FITS_rec([(array([101,   0], dtype=int32),),\n",
      "       (array([101, 101], dtype=int32),),\n",
      "       (array([11003,   202], dtype=int32),), ...,\n",
      "       (array([   11127, 68562535], dtype=int32),),\n",
      "       (array([    4066, 68573662], dtype=int32),),\n",
      "       (array([     101, 68577728], dtype=int32),)], \n",
      "      dtype=(numpy.record, [('COMPRESSED_DATA', '>i4', (2,))]))>\n",
      "Traceback (most recent call last):\n",
      "  File \"/Users/cbrasseur/anaconda/envs/toasty/lib/python3.5/site-packages/astropy/io/fits/fitsrec.py\", line 640, in __del__\n",
      "    del self._coldefs\n",
      "  File \"/Users/cbrasseur/anaconda/envs/toasty/lib/python3.5/site-packages/astropy/io/fits/fitsrec.py\", line 637, in _coldefs\n",
      "    raise AttributeError(exc.args[0])\n",
      "AttributeError: _coldefs\n",
      "Exception ignored in: <bound method FITS_rec.__del__ of FITS_rec([(array([101,   0], dtype=int32),),\n",
      "       (array([3837,  101], dtype=int32),),\n",
      "       (array([9798, 3938], dtype=int32),), ...,\n",
      "       (array([    3453, 68243618], dtype=int32),),\n",
      "       (array([     101, 68247071], dtype=int32),),\n",
      "       (array([     101, 68247172], dtype=int32),)], \n",
      "      dtype=(numpy.record, [('COMPRESSED_DATA', '>i4', (2,))]))>\n",
      "Traceback (most recent call last):\n",
      "  File \"/Users/cbrasseur/anaconda/envs/toasty/lib/python3.5/site-packages/astropy/io/fits/fitsrec.py\", line 640, in __del__\n",
      "    del self._coldefs\n",
      "  File \"/Users/cbrasseur/anaconda/envs/toasty/lib/python3.5/site-packages/astropy/io/fits/fitsrec.py\", line 637, in _coldefs\n",
      "    raise AttributeError(exc.args[0])\n",
      "AttributeError: _coldefs\n",
      "Exception ignored in: <bound method FITS_rec.__del__ of FITS_rec([(array([101,   0], dtype=int32),),\n",
      "       (array([9250,  101], dtype=int32),),\n",
      "       (array([9699, 9351], dtype=int32),), ...,\n",
      "       (array([    2837, 68401867], dtype=int32),),\n",
      "       (array([    2197, 68404704], dtype=int32),),\n",
      "       (array([     101, 68406901], dtype=int32),)], \n",
      "      dtype=(numpy.record, [('COMPRESSED_DATA', '>i4', (2,))]))>\n",
      "Traceback (most recent call last):\n",
      "  File \"/Users/cbrasseur/anaconda/envs/toasty/lib/python3.5/site-packages/astropy/io/fits/fitsrec.py\", line 640, in __del__\n",
      "    del self._coldefs\n",
      "  File \"/Users/cbrasseur/anaconda/envs/toasty/lib/python3.5/site-packages/astropy/io/fits/fitsrec.py\", line 637, in _coldefs\n",
      "    raise AttributeError(exc.args[0])\n",
      "AttributeError: _coldefs\n",
      "Exception ignored in: <bound method FITS_rec.__del__ of FITS_rec([(array([101,   0], dtype=int32),),\n",
      "       (array([101, 101], dtype=int32),),\n",
      "       (array([9307,  202], dtype=int32),), ...,\n",
      "       (array([   11125, 68677488], dtype=int32),),\n",
      "       (array([     101, 68688613], dtype=int32),),\n",
      "       (array([     101, 68688714], dtype=int32),)], \n",
      "      dtype=(numpy.record, [('COMPRESSED_DATA', '>i4', (2,))]))>\n",
      "Traceback (most recent call last):\n",
      "  File \"/Users/cbrasseur/anaconda/envs/toasty/lib/python3.5/site-packages/astropy/io/fits/fitsrec.py\", line 640, in __del__\n",
      "    del self._coldefs\n",
      "  File \"/Users/cbrasseur/anaconda/envs/toasty/lib/python3.5/site-packages/astropy/io/fits/fitsrec.py\", line 637, in _coldefs\n",
      "    raise AttributeError(exc.args[0])\n",
      "AttributeError: _coldefs\n",
      "Exception ignored in: <bound method FITS_rec.__del__ of FITS_rec([(array([101,   0], dtype=int32),),\n",
      "       (array([5887,  101], dtype=int32),),\n",
      "       (array([11350,  5988], dtype=int32),), ...,\n",
      "       (array([   11341, 68677447], dtype=int32),),\n",
      "       (array([    9834, 68688788], dtype=int32),),\n",
      "       (array([     101, 68698622], dtype=int32),)], \n",
      "      dtype=(numpy.record, [('COMPRESSED_DATA', '>i4', (2,))]))>\n",
      "Traceback (most recent call last):\n",
      "  File \"/Users/cbrasseur/anaconda/envs/toasty/lib/python3.5/site-packages/astropy/io/fits/fitsrec.py\", line 640, in __del__\n",
      "    del self._coldefs\n",
      "  File \"/Users/cbrasseur/anaconda/envs/toasty/lib/python3.5/site-packages/astropy/io/fits/fitsrec.py\", line 637, in _coldefs\n",
      "    raise AttributeError(exc.args[0])\n",
      "AttributeError: _coldefs\n"
     ]
    }
   ],
   "source": [
    "start = time.time()\n",
    "sampler = normalizer(panstarrsSampler(),-3,10)\n",
    "output = 'toasts/ps1_M101_new'\n",
    "depth = 8  \n",
    "toast(sampler, depth, output, ra_range=[210.3,211],dec_range=[54,55.6])\n",
    "end = time.time()"
   ]
  },
  {
   "cell_type": "code",
   "execution_count": 51,
   "metadata": {
    "collapsed": false
   },
   "outputs": [],
   "source": [
    "start = time.time()\n",
    "sampler = normalizer(panstarrsSampler(),-3,10)\n",
    "output = 'toasts/ps1_M101_new'\n",
    "depth = 12  \n",
    "toast(sampler, depth, output, ra_range=[210.589,211],dec_range=[54.26,54.45])\n",
    "end = time.time()"
   ]
  },
  {
   "cell_type": "code",
   "execution_count": 52,
   "metadata": {
    "collapsed": false
   },
   "outputs": [
    {
     "data": {
      "text/plain": [
       "226.30935192108154"
      ]
     },
     "execution_count": 52,
     "metadata": {},
     "output_type": "execute_result"
    }
   ],
   "source": [
    "end-start"
   ]
  },
  {
   "cell_type": "code",
   "execution_count": null,
   "metadata": {
    "collapsed": true
   },
   "outputs": [],
   "source": []
  }
 ],
 "metadata": {
  "kernelspec": {
   "display_name": "Python 3",
   "language": "python",
   "name": "python3"
  },
  "language_info": {
   "codemirror_mode": {
    "name": "ipython",
    "version": 3
   },
   "file_extension": ".py",
   "mimetype": "text/x-python",
   "name": "python",
   "nbconvert_exporter": "python",
   "pygments_lexer": "ipython3",
   "version": "3.5.1"
  }
 },
 "nbformat": 4,
 "nbformat_minor": 0
}
