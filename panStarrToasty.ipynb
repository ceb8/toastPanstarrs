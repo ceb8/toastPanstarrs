{
 "cells": [
  {
   "cell_type": "code",
   "execution_count": 1,
   "metadata": {
    "collapsed": false
   },
   "outputs": [],
   "source": [
    "%matplotlib inline\n",
    "import matplotlib.pyplot as plt\n",
    "import numpy as np\n",
    "\n",
    "from astropy.io import fits, ascii\n",
    "from astropy import wcs\n",
    "from astropy.coordinates import SkyCoord\n",
    "from astropy import units as u\n",
    "\n",
    "from IPython.display import Image\n",
    "from skimage.io import imread\n",
    "\n",
    "from toasty import toast, cartesian_sampler, normalizer\n",
    "\n",
    "from collections import defaultdict, namedtuple\n",
    "\n",
    "import ps1skycell_toast as pssc"
   ]
  },
  {
   "cell_type": "code",
   "execution_count": 2,
   "metadata": {
    "collapsed": true
   },
   "outputs": [],
   "source": [
    "def minmax(arr):\n",
    "    return [min(arr),max(arr)]"
   ]
  },
  {
   "cell_type": "code",
   "execution_count": null,
   "metadata": {
    "collapsed": true
   },
   "outputs": [],
   "source": [
    "def M101Sampler():\n",
    "    \n",
    "    def vec2Pix(raArr,decArr):\n",
    "        \n",
    "        tile = np.zeros(raArr.shape)\n",
    "        \n",
    "        raArr[raArr < 0] += 2 * np.pi # making all ras 0 - 2pi\n",
    "        \n",
    "        raCorners = np.array([raArr[0][0],raArr[0][-1],raArr[-1][0],raArr[-1][-1]])\n",
    "        decCorners = np.array([decArr[0][0],decArr[0][-1],decArr[-1][0],decArr[-1][-1]])       \n",
    "        minRa = min(raCorners)\n",
    "        maxRa = max(raCorners)\n",
    "        minDec = min(decCorners)\n",
    "        maxDec = max(decCorners)\n",
    "\n",
    "        \n",
    "        #   THIS IS ALL TEMPORARY \n",
    "        m101Pos = SkyCoord(210.79995, 54.34410, frame='icrs', unit='deg')\n",
    "        if ((m101Pos.ra.rad >= minRa) and (m101Pos.ra.rad <= maxRa)):\n",
    "            if ((m101Pos.dec.rad >= minDec) and (m101Pos.dec.rad <= maxDec)):\n",
    "   \n",
    "                fitsFile = fits.open('rings.v3.skycell.2381.053.stk.r.unconv.fits')\n",
    "                rfWcs = wcs.WCS(fitsFile[1].header)\n",
    "                footprint=np.array([SkyCoord(*x,frame='icrs',unit='deg') for x in rfWcs.calc_footprint(fitsFile[1].header) ])\n",
    "                imgData = fitsFile[1].data\n",
    "                fitsFile.close()\n",
    "                \n",
    "                fpMinRa = min(x.ra.rad for x in footprint)#(min(footprint[:,0])*u.deg).to(u.rad)\n",
    "                fpMaxRa = max(x.ra.rad for x in footprint)#(max(footprint[:,0])*u.deg).to(u.rad)\n",
    "                fpMinDec = min(x.dec.rad for x in footprint)#(min(footprint[:,1])*u.deg).to(u.rad)\n",
    "                fpMaxDec = max(x.dec.rad for x in footprint)#(max(footprint[:,1])*u.deg).to(u.rad)\n",
    "\n",
    "                print(\"woot\")\n",
    "                fpMask = (raArr <= fpMaxRa)  & (raArr >= fpMinRa) & (decArr <= fpMaxDec) & (decArr >= fpMinDec)\n",
    "                print(np.sum(fpMask))\n",
    "                print(fpMinRa,fpMaxRa)\n",
    "                print(fpMinDec,fpMaxDec)\n",
    "                print()\n",
    "                \n",
    "                ny, nx = imgData.shape[0:2]    \n",
    "                \n",
    "                tile[fpMask] = imgData[(ny*(decArr - fpMinDec)/(fpMaxDec - fpMinDec)).astype(int)[fpMask],\n",
    "                                       (nx*(1-(raArr - fpMinRa)/(fpMaxRa - fpMinRa))).astype(int)[fpMask]]\n",
    "                                \n",
    "        # ^ THIS IS ALL TEMPORARY ^\n",
    "\n",
    "        \n",
    "        \n",
    "        return tile\n",
    "    \n",
    "    return vec2Pix"
   ]
  },
  {
   "cell_type": "code",
   "execution_count": null,
   "metadata": {
    "collapsed": false
   },
   "outputs": [],
   "source": [
    "sampler = normalizer(M101Sampler(),-3,10)\n",
    "output = 'toasts/ps1_M101'\n",
    "depth = 8  \n",
    "toast(sampler, depth, output, ra_range=[205,215],dec_range=[50,60])"
   ]
  },
  {
   "cell_type": "code",
   "execution_count": null,
   "metadata": {
    "collapsed": false
   },
   "outputs": [],
   "source": [
    "sampler = 'toasts/ps1_bottom'\n",
    "output = 'toasts/ps1_bottom'\n",
    "depth = 4 \n",
    "toast(sampler, depth, output)"
   ]
  },
  {
   "cell_type": "code",
   "execution_count": null,
   "metadata": {
    "collapsed": false
   },
   "outputs": [],
   "source": [
    "def panstarrsSampler():\n",
    "    \n",
    "    psCells = ascii.read(\"filter_r_rings.rpt\")\n",
    "    psSC2FileLoc = np.full((max(psCells['SCn']) + 1,max(psCells['SCm']) + 1),\"\",dtype='<U168')\n",
    "    #psSC2FileLoc[psCells['SCn'],psCells['SCm']] = psCells['fileNPath']\n",
    "    psSC2FileLoc[2404][5]  = \"RINGS.V3.skycell.2404.005.stk.4032678.unconv.fits\"\n",
    "    psSC2FileLoc[2381][62] = \"RINGS.V3.skycell.2381.062.stk.3906396.unconv.fits\"\n",
    "    psSC2FileLoc[2381][63] = \"RINGS.V3.skycell.2381.063.stk.3906397.unconv.fits\"\n",
    "    psSC2FileLoc[2381][64] = \"RINGS.V3.skycell.2381.064.stk.3906398.unconv.fits\"\n",
    "    psSC2FileLoc[2381][52] = \"RINGS.V3.skycell.2381.052.stk.3906388.unconv.fits\"\n",
    "    psSC2FileLoc[2381][53] = \"rings.v3.skycell.2381.053.stk.r.unconv.fits\" # M101\n",
    "    psSC2FileLoc[2381][54] = \"RINGS.V3.skycell.2381.054.stk.3906390.unconv.fits\"\n",
    "    psSC2FileLoc[2381][42] = \"RINGS.V3.skycell.2381.042.stk.3906380.unconv.fits\"\n",
    "    psSC2FileLoc[2381][43] = \"RINGS.V3.skycell.2381.043.stk.3906381.unconv.fits\"\n",
    "    psSC2FileLoc[2381][44] = \"RINGS.V3.skycell.2381.044.stk.3906382.unconv.fits\"\n",
    "\n",
    "    def vec2Pix(raArr,decArr):\n",
    "        \n",
    "        tile = np.zeros(raArr.shape) # this should be filled with whatever we want to signal \"no data\" \n",
    "                                     # I am currently using zero\n",
    "        tileFill = np.full(raArr.shape,False,bool)\n",
    "\n",
    "        #print(raArr[0,0], decArr[0,0])\n",
    "        raArr[raArr < 0] += 2 * np.pi # making all ras 0 - 2pi\n",
    "        \n",
    "        minRa,maxRa = minmax(np.array([raArr[0][0],raArr[0][-1],raArr[-1][0],raArr[-1][-1]]))\n",
    "        minDec,maxDec = minmax(np.array([decArr[0][0],decArr[0][-1],decArr[-1][0],decArr[-1][-1]]))\n",
    "\n",
    "        while(False in tileFill):\n",
    "            inds = np.where(tileFill == False) # is there a better way to do this?\n",
    "            \n",
    "            # These 2 lines will need to be generalized away eventually\n",
    "            pc,sc = pssc.findskycell(np.rad2deg(raArr[inds[0][0],inds[1][0]]), \n",
    "                                     np.rad2deg(decArr[inds[0][0],inds[1][0]]))\n",
    "            dataFle = psSC2FileLoc[pc[0],sc[0]]\n",
    "            #print(raArr[inds[0][0],inds[1][0]], decArr[inds[0][0],inds[1][0]])\n",
    "            #print(np.rad2deg(raArr[inds[0][0],inds[1][0]]), \n",
    "            #      np.rad2deg(decArr[inds[0][0],inds[1][0]]))\n",
    "            \n",
    "            if not dataFle:\n",
    "                tileFill[inds[0][0],inds[1][0]] = True\n",
    "                # Do I want to/ can I deal with the full footprint here?\n",
    "                continue\n",
    "            \n",
    "            print(\"Skycell:\",pc,\",\",sc)\n",
    "            print(\"File location:\",dataFle)\n",
    "            \n",
    "            # getting what we need out of the fits file\n",
    "            fitsFile = fits.open(dataFle)\n",
    "            dfWcs = wcs.WCS(fitsFile[1].header)\n",
    "            fp = dfWcs.calc_footprint(fitsFile[1].header)\n",
    "            footprint = np.array([SkyCoord(*x,frame='icrs',unit='deg') for x in  fp])\n",
    "            #print(fp)\n",
    "            #print(footprint)\n",
    "            imgData = fitsFile[1].data\n",
    "            fitsFile.close()\n",
    "            \n",
    "            # getting the edges, not the following code assumes the footprint is a rectangle aligned\n",
    "            # alont ra/dec lines, this might need to be altered for the general case \n",
    "            # (galex can be the experiment for this) (might need to use the mask in the fits file?)\n",
    "            imMinRa,imMaxRa = minmax([x.ra.rad for x in footprint])\n",
    "            imMinDec,imMaxDec = minmax([x.dec.rad for x in footprint])\n",
    "\n",
    "            # There are problems if the ra interval crosses the circle boundary (e.g. 359 - 1)\n",
    "            # This should not happen with dec\n",
    "            # Check and account for that here\n",
    "            if (footprint[0].ra - footprint[3].ra) > 0:  \n",
    "                # this is what would need to be altered to take into account different footprint shapes\n",
    "                imMask = (raArr <= imMaxRa)  & (raArr >= imMinRa) \n",
    "                imMask &= (decArr <= imMaxDec) & (decArr >= imMinDec)\n",
    "            else: # Crosses circle boundary\n",
    "                imMask = (raArr >= imMaxRa)  & (raArr <= 2*np.pi)\n",
    "                imMask |= ((raArr >= 0)  & (raArr <= imMinRa))\n",
    "                imMask &= (decArr <= imMaxDec) & (decArr >= imMinDec)\n",
    "        \n",
    "            ny, nx = imgData.shape[0:2]    \n",
    "            tile[imMask] = imgData[(ny*(decArr - imMinDec)/(imMaxDec - imMinDec)).astype(int)[imMask],\n",
    "                                   (nx*(1-(raArr - imMinRa)/(imMaxRa - imMinRa))).astype(int)[imMask]]\n",
    "            print(\"Number of pixels to be filled:\",np.sum(imMask))\n",
    "            tileFill |= imMask # adding true everywhere we just filled\n",
    "            print()\n",
    "                                \n",
    "        return tile\n",
    "    \n",
    "    return vec2Pix"
   ]
  },
  {
   "cell_type": "code",
   "execution_count": null,
   "metadata": {
    "collapsed": false
   },
   "outputs": [],
   "source": [
    "sampler = normalizer(panstarrsSampler(),-3,10)\n",
    "output = 'toasts/ps1_M101'\n",
    "depth = 8  \n",
    "toast(sampler, depth, output, ra_range=[210.3,211],dec_range=[54,55.6])"
   ]
  },
  {
   "cell_type": "code",
   "execution_count": null,
   "metadata": {
    "collapsed": true
   },
   "outputs": [],
   "source": []
  }
 ],
 "metadata": {
  "kernelspec": {
   "display_name": "Python 3",
   "language": "python",
   "name": "python3"
  },
  "language_info": {
   "codemirror_mode": {
    "name": "ipython",
    "version": 3
   },
   "file_extension": ".py",
   "mimetype": "text/x-python",
   "name": "python",
   "nbconvert_exporter": "python",
   "pygments_lexer": "ipython3",
   "version": "3.5.1"
  }
 },
 "nbformat": 4,
 "nbformat_minor": 0
}
