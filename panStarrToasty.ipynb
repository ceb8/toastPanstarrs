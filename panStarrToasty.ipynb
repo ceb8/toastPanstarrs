{
 "cells": [
  {
   "cell_type": "code",
   "execution_count": 1,
   "metadata": {
    "collapsed": false
   },
   "outputs": [],
   "source": [
    "%matplotlib inline\n",
    "import matplotlib.pyplot as plt\n",
    "import numpy as np\n",
    "\n",
    "from astropy.io import fits, ascii\n",
    "from astropy import wcs\n",
    "from astropy.coordinates import SkyCoord\n",
    "from astropy import units as u\n",
    "\n",
    "from IPython.display import Image\n",
    "from skimage.io import imread,imsave\n",
    "\n",
    "from toasty import toast, cartesian_sampler, normalizer\n",
    "\n",
    "from collections import namedtuple\n",
    "from itertools import product\n",
    "\n",
    "import panstarrsTrig as trig \n",
    "import ps1skycell_toast as pssc\n",
    "\n",
    "import time\n",
    "import os\n",
    "import sys\n",
    "\n",
    "import warnings\n",
    "warnings.filterwarnings(\"ignore\", \".* is a low contrast image\")"
   ]
  },
  {
   "cell_type": "code",
   "execution_count": null,
   "metadata": {
    "collapsed": true
   },
   "outputs": [],
   "source": [
    "def minmax(arr):\n",
    "    return [min(arr),max(arr)]"
   ]
  },
  {
   "cell_type": "code",
   "execution_count": null,
   "metadata": {
    "collapsed": true
   },
   "outputs": [],
   "source": [
    "def M101Sampler():\n",
    "    \n",
    "    def vec2Pix(raArr,decArr):\n",
    "        \n",
    "        tile = np.zeros(raArr.shape)\n",
    "        \n",
    "        raArr[raArr < 0] += 2 * np.pi # making all ras 0 - 2pi\n",
    "        \n",
    "        raCorners = np.array([raArr[0][0],raArr[0][-1],raArr[-1][0],raArr[-1][-1]])\n",
    "        decCorners = np.array([decArr[0][0],decArr[0][-1],decArr[-1][0],decArr[-1][-1]])       \n",
    "        minRa = min(raCorners)\n",
    "        maxRa = max(raCorners)\n",
    "        minDec = min(decCorners)\n",
    "        maxDec = max(decCorners)\n",
    "\n",
    "        \n",
    "        #   THIS IS ALL TEMPORARY \n",
    "        m101Pos = SkyCoord(210.79995, 54.34410, frame='icrs', unit='deg')\n",
    "        if ((m101Pos.ra.rad >= minRa) and (m101Pos.ra.rad <= maxRa)):\n",
    "            if ((m101Pos.dec.rad >= minDec) and (m101Pos.dec.rad <= maxDec)):\n",
    "   \n",
    "                fitsFile = fits.open('rings.v3.skycell.2381.053.stk.r.unconv.fits')\n",
    "                rfWcs = wcs.WCS(fitsFile[1].header)\n",
    "                footprint=np.array([SkyCoord(*x,frame='icrs',unit='deg') for x in rfWcs.calc_footprint(fitsFile[1].header) ])\n",
    "                imgData = fitsFile[1].data\n",
    "                fitsFile.close()\n",
    "                \n",
    "                fpMinRa = min(x.ra.rad for x in footprint)#(min(footprint[:,0])*u.deg).to(u.rad)\n",
    "                fpMaxRa = max(x.ra.rad for x in footprint)#(max(footprint[:,0])*u.deg).to(u.rad)\n",
    "                fpMinDec = min(x.dec.rad for x in footprint)#(min(footprint[:,1])*u.deg).to(u.rad)\n",
    "                fpMaxDec = max(x.dec.rad for x in footprint)#(max(footprint[:,1])*u.deg).to(u.rad)\n",
    "\n",
    "                print(\"woot\")\n",
    "                fpMask = (raArr <= fpMaxRa)  & (raArr >= fpMinRa) & (decArr <= fpMaxDec) & (decArr >= fpMinDec)\n",
    "                print(np.sum(fpMask))\n",
    "                print(fpMinRa,fpMaxRa)\n",
    "                print(fpMinDec,fpMaxDec)\n",
    "                print()\n",
    "                \n",
    "                ny, nx = imgData.shape[0:2]    \n",
    "                \n",
    "                tile[fpMask] = imgData[(ny*(decArr - fpMinDec)/(fpMaxDec - fpMinDec)).astype(int)[fpMask],\n",
    "                                       (nx*(1-(raArr - fpMinRa)/(fpMaxRa - fpMinRa))).astype(int)[fpMask]]\n",
    "                                \n",
    "        # ^ THIS IS ALL TEMPORARY ^\n",
    "\n",
    "        \n",
    "        \n",
    "        return tile\n",
    "    \n",
    "    return vec2Pix"
   ]
  },
  {
   "cell_type": "code",
   "execution_count": null,
   "metadata": {
    "collapsed": false
   },
   "outputs": [],
   "source": [
    "sampler = normalizer(M101Sampler(),-3,10)\n",
    "output = 'toasts/ps1_M101'\n",
    "depth = 8  \n",
    "toast(sampler, depth, output, ra_range=[205,215],dec_range=[50,60])"
   ]
  },
  {
   "cell_type": "code",
   "execution_count": null,
   "metadata": {
    "collapsed": false
   },
   "outputs": [],
   "source": [
    "sampler = 'toasts/ps1_bottom'\n",
    "output = 'toasts/ps1_bottom'\n",
    "depth = 4 \n",
    "toast(sampler, depth, output)"
   ]
  },
  {
   "cell_type": "code",
   "execution_count": 2,
   "metadata": {
    "collapsed": true
   },
   "outputs": [],
   "source": [
    "Data = namedtuple('Data','img cnt')\n",
    "\n",
    "class fitsCache:\n",
    "    \"\"\"\"Caching for fitfile image data\"\"\"\n",
    "    def __init__(self,maxItems):\n",
    "        self.cache = {}\n",
    "        self.count = 0\n",
    "        self.maxItms = maxItems\n",
    "        \n",
    "    def remove(self,filename):\n",
    "        if filename not in self.cache:\n",
    "            return\n",
    "        del(self.cache[filename])\n",
    "    \n",
    "    def oldest(self):\n",
    "        return sorted([(y.cnt,x) for x,y in seltf.cache.items()])[0][1]\n",
    "    \n",
    "    def add(self,filename):\n",
    "        if len(self.cache) == self.maxItms:\n",
    "            self.remove(self.oldest())\n",
    "        try:\n",
    "            fitsfile = fits.open(filename)      \n",
    "            self.cache[filename] = Data(img=fitsfile[1].data,cnt=self.count)\n",
    "            fitsfile.close()\n",
    "        except:\n",
    "            self.cache[filename] = Data(img=None,cnt=self.count)\n",
    "        self.count += 1\n",
    "\n",
    "    def get(self,filename):\n",
    "        if filename not in self.cache:\n",
    "            self.add(filename)\n",
    "        return self.cache[filename].img \n",
    "    "
   ]
  },
  {
   "cell_type": "code",
   "execution_count": 3,
   "metadata": {
    "collapsed": true
   },
   "outputs": [],
   "source": [
    "psCache = fitsCache(10)"
   ]
  },
  {
   "cell_type": "code",
   "execution_count": 4,
   "metadata": {
    "collapsed": false
   },
   "outputs": [],
   "source": [
    "def panstarrsSampler():\n",
    "    \n",
    "    psCells = ascii.read(\"filter_r_rings.rpt\")\n",
    "    psSC2FileLoc = np.full((max(psCells['SCn']) + 1,max(psCells['SCm']) + 1),\"\",dtype='<U168')\n",
    "    #psSC2FileLoc[psCells['SCn'],psCells['SCm']] = psCells['fileNPath']\n",
    "    psSC2FileLoc[2404][5]  = \"RINGS.V3.skycell.2404.005.stk.4032678.unconv.fits\"\n",
    "    psSC2FileLoc[2381][62] = \"RINGS.V3.skycell.2381.062.stk.3906396.unconv.fits\"\n",
    "    psSC2FileLoc[2381][63] = \"RINGS.V3.skycell.2381.063.stk.3906397.unconv.fits\"\n",
    "    psSC2FileLoc[2381][64] = \"RINGS.V3.skycell.2381.064.stk.3906398.unconv.fits\"\n",
    "    psSC2FileLoc[2381][52] = \"RINGS.V3.skycell.2381.052.stk.3906388.unconv.fits\"\n",
    "    psSC2FileLoc[2381][53] = \"rings.v3.skycell.2381.053.stk.r.unconv.fits\" # M101\n",
    "    #psSC2FileLoc[2381][53] = \"notanactualfile.fits\"\n",
    "    psSC2FileLoc[2381][54] = \"RINGS.V3.skycell.2381.054.stk.3906390.unconv.fits\"\n",
    "    psSC2FileLoc[2381][42] = \"RINGS.V3.skycell.2381.042.stk.3906380.unconv.fits\"\n",
    "    psSC2FileLoc[2381][43] = \"RINGS.V3.skycell.2381.043.stk.3906381.unconv.fits\"\n",
    "    psSC2FileLoc[2381][44] = \"RINGS.V3.skycell.2381.044.stk.3906382.unconv.fits\"\n",
    "    \n",
    "    psSC2FileLoc[904][83] = \"rings.v3.skycell.0904.083.stk.r.unconv.fits\"\n",
    "                        \n",
    "    def vec2Pix(raArr,decArr):\n",
    "        \n",
    "        global psCache\n",
    "        \n",
    "        # Getting info about skycell and pixel location for given ra/decs\n",
    "        pixelInfoArray = pssc.findskycell(raArr, decArr)\n",
    "            \n",
    "        # Getting the file paths and creating a unique list of them\n",
    "        fileLocByPix = psSC2FileLoc[pixelInfoArray['projcell'],pixelInfoArray['subcell']] \n",
    "        filePths = {}\n",
    "        for line in fileLocByPix:\n",
    "            for filename in line:\n",
    "                filePths[filename] = filename\n",
    "        filePths = list(filePths.keys())\n",
    "           \n",
    "        tile = np.zeros(raArr.shape) # this should be filled with whatever we want to signal \"no data\" \n",
    "                                     # I am currently using zero\n",
    "        #tile = np.full(raArr.shape,10)\n",
    "        \n",
    "        if (len(filePths) == 1) and (not filePths[0]):\n",
    "            return None\n",
    "        \n",
    "        for dataFle in filePths:\n",
    "            if dataFle == '':\n",
    "                #print(\"File not available\")\n",
    "                continue\n",
    "            \n",
    "            #print(\"File location:\",dataFle)\n",
    "            \n",
    "            # getting the image data (will be rplaced by cache class)\n",
    "            #fitsFile = fits.open(dataFle)\n",
    "            #imgData = fitsFile[1].data\n",
    "            #fitsFile.close()   \n",
    "            imgData = psCache.get(dataFle)\n",
    "            \n",
    "            # file did not have any associated image data, probably the file was not found on disc\n",
    "            if imgData == None: \n",
    "                continue\n",
    "                \n",
    "            # getting the pixels we want out of this file\n",
    "            pix2Fill = (fileLocByPix == dataFle)\n",
    "            #print(\"Number of pixels to be filled:\",np.sum(pix2Fill))\n",
    "            #tile[pix2Fill] = imgData[pixIndY[pix2Fill],pixIndX[pix2Fill]]   \n",
    "            tile[pix2Fill] = imgData[pixelInfoArray['y'][pix2Fill],pixelInfoArray['x'][pix2Fill]] \n",
    "        \n",
    "            tile[np.isnan(tile)] = 10 # making nan values appear as white\n",
    "        \n",
    "        return tile   \n",
    "        \n",
    "    return vec2Pix"
   ]
  },
  {
   "cell_type": "code",
   "execution_count": null,
   "metadata": {
    "collapsed": false,
    "scrolled": true
   },
   "outputs": [],
   "source": [
    "start = time.time()\n",
    "sampler = normalizer(panstarrsSampler(),-3.4,9.7, bias=.61428, contrast=1.81632)\n",
    "output = 'toasts/ps1_M101_new'\n",
    "depth = 8  \n",
    "toast(sampler, depth, output, ra_range=[210.3,211],dec_range=[54,55.6])\n",
    "end = time.time()"
   ]
  },
  {
   "cell_type": "code",
   "execution_count": 5,
   "metadata": {
    "collapsed": false
   },
   "outputs": [
    {
     "name": "stderr",
     "output_type": "stream",
     "text": [
      "Exception ignored in: <bound method FITS_rec.__del__ of FITS_rec([(array([101,   0], dtype=int32),),\n",
      "       (array([9320,  101], dtype=int32),),\n",
      "       (array([9978, 9421], dtype=int32),), ...,\n",
      "       (array([    9211, 63724159], dtype=int32),),\n",
      "       (array([    9410, 63733370], dtype=int32),),\n",
      "       (array([     101, 63742780], dtype=int32),)], \n",
      "      dtype=(numpy.record, [('COMPRESSED_DATA', '>i4', (2,))]))>\n",
      "Traceback (most recent call last):\n",
      "  File \"/Users/cbrasseur/anaconda/envs/toasty/lib/python3.5/site-packages/astropy/io/fits/fitsrec.py\", line 640, in __del__\n",
      "    del self._coldefs\n",
      "  File \"/Users/cbrasseur/anaconda/envs/toasty/lib/python3.5/site-packages/astropy/io/fits/fitsrec.py\", line 637, in _coldefs\n",
      "    raise AttributeError(exc.args[0])\n",
      "AttributeError: _coldefs\n",
      "/Users/cbrasseur/anaconda/envs/toasty/lib/python3.5/site-packages/ipykernel/__main__.py:64: FutureWarning: comparison to `None` will result in an elementwise object comparison in the future.\n",
      "/Users/cbrasseur/anaconda/envs/toasty/lib/python3.5/site-packages/toasty-0.0.1-py3.5-macosx-10.5-x86_64.egg/toasty/tile.py:581: FutureWarning: comparison to `None` will result in an elementwise object comparison in the future.\n",
      "  if raw == None:\n",
      "/Users/cbrasseur/anaconda/envs/toasty/lib/python3.5/site-packages/toasty-0.0.1-py3.5-macosx-10.5-x86_64.egg/toasty/tile.py:234: FutureWarning: comparison to `None` will result in an elementwise object comparison in the future.\n",
      "  if img == None:\n"
     ]
    }
   ],
   "source": [
    "start = time.time()\n",
    "sampler = normalizer(panstarrsSampler(),-2.267,9.001,scaling='sinh',bias=.22, contrast=3.723)\n",
    "output = 'toasts/ps1'\n",
    "depth = 12  \n",
    "#toast(sampler, depth, output, ra_range=[210.589,211],dec_range=[54.26,54.45])\n",
    "toast(sampler, depth, output, ra_range=[101,101.6],dec_range=[-16.9,-16.5],restart=True)\n",
    "end = time.time()"
   ]
  },
  {
   "cell_type": "code",
   "execution_count": null,
   "metadata": {
    "collapsed": false
   },
   "outputs": [],
   "source": [
    "end-start"
   ]
  },
  {
   "cell_type": "code",
   "execution_count": null,
   "metadata": {
    "collapsed": false
   },
   "outputs": [],
   "source": [
    "start = time.time()\n",
    "sensitivity = 1000\n",
    "sineArray = np.empty(360*sensitivity)\n",
    "for angle in range(360*sensitivity):\n",
    "    sineArray[angle] = np.sin((angle / sensitivity) * (np.pi / 180))\n",
    "\n",
    "np.savetxt(\"sineLUT.001.fullCircle.txt\",sineArray)\n",
    "end = time.time()\n",
    "print(end-start)"
   ]
  },
  {
   "cell_type": "code",
   "execution_count": null,
   "metadata": {
    "collapsed": false
   },
   "outputs": [],
   "source": [
    "sineArray = np.loadtxt(\"sineLUT.001.txt\")\n",
    "# plotting sine\n",
    "plt.plot(np.array(range(len(sineArray)))/1000,sineArray,'b')\n",
    "plt.plot(np.array(range(len(sineArray)))/1000 + 90,sineArray[::-1],'b')\n",
    "plt.plot(np.array(range(len(sineArray)))/1000 + 180,sineArray*-1,'b')\n",
    "plt.plot(np.array(range(len(sineArray)))/1000 + 270,sineArray[::-1]*-1,'b')\n",
    "# plotting cosine\n",
    "plt.plot(np.array(range(len(sineArray)))/1000,sineArray[::-1],'g')\n",
    "plt.plot(np.array(range(len(sineArray)))/1000 + 90,sineArray*-1,'g')\n",
    "plt.plot(np.array(range(len(sineArray)))/1000 + 180,sineArray[::-1]*-1,'g')\n",
    "plt.plot(np.array(range(len(sineArray)))/1000 + 270,sineArray,'g')\n",
    "# the axes\n",
    "plt.axhline(0,color='k')\n",
    "plt.show()"
   ]
  },
  {
   "cell_type": "code",
   "execution_count": 60,
   "metadata": {
    "collapsed": false
   },
   "outputs": [],
   "source": [
    "def colorize(depth,rDir,gDir,bDir,outDir,txrange,tyrange):\n",
    "    for tx,ty in product(range(*txrange),range(*tyrange)):\n",
    "        pth = '/' + str(depth) + '/' + str(ty) + '/' + str(ty) + '_' + str(tx) + '.png'\n",
    "        if not (os.path.isfile(rDir + pth) and os.path.isfile(gDir + pth) and os.path.isfile(bDir + pth)):\n",
    "            continue\n",
    "        \n",
    "        r = imread(rDir+pth)\n",
    "        g = imread(gDir+pth)\n",
    "        b = imread(bDir+pth)\n",
    "       \n",
    "        b = (b * 0.8).astype(np.uint8)\n",
    "        #r = (r * 0.9).astype(np.uint8)\n",
    "        #print(np.min(r),np.max(r))\n",
    "        #print(np.min(g),np.max(g))\n",
    "        #print(np.min(b),np.max(b))\n",
    "        #print()\n",
    "            \n",
    "        rgb = np.dstack((r,g,b))\n",
    "\n",
    "        direc, _ = os.path.split(outDir+pth)\n",
    "        if not os.path.exists(direc):\n",
    "            os.makedirs(direc)\n",
    "        imsave(outDir+pth, rgb)"
   ]
  },
  {
   "cell_type": "code",
   "execution_count": 61,
   "metadata": {
    "collapsed": false
   },
   "outputs": [],
   "source": [
    "astroViewPath = '/Users/cbrasseur/Documents/Portal/Mashup/Clients/AstroView/ps1'\n",
    "\n",
    "# M51\n",
    "colorize(12,'colorizing/ps_r','colorizing/ps_g','colorizing/ps_i',astroViewPath,[1240,1244],[2356,2360])\n",
    "\n",
    "# M1\n",
    "colorize(12,'colorizing/ps_r','colorizing/ps_g','colorizing/ps_i',astroViewPath,[2172,2176],[608,616])\n",
    "\n",
    "# Sirius\n",
    "colorize(12,'colorizing/ps_r','colorizing/ps_g','colorizing/ps_i',astroViewPath,[1444,1448],[232,236])\n",
    "\n",
    "# M101\n",
    "colorize(12,'colorizing/ps_r','colorizing/ps_g','colorizing/ps_i',astroViewPath,[1400,1404],[2412,2416])\n",
    "\n",
    "# 281.27063 -7.33885\n",
    "colorize(12,'colorizing/ps_r','colorizing/ps_g','colorizing/ps_i',astroViewPath,[2460,2464],[3844,3848])"
   ]
  },
  {
   "cell_type": "code",
   "execution_count": 5,
   "metadata": {
    "collapsed": true
   },
   "outputs": [],
   "source": []
  },
  {
   "cell_type": "code",
   "execution_count": null,
   "metadata": {
    "collapsed": true
   },
   "outputs": [],
   "source": []
  }
 ],
 "metadata": {
  "kernelspec": {
   "display_name": "Python 3",
   "language": "python",
   "name": "python3"
  },
  "language_info": {
   "codemirror_mode": {
    "name": "ipython",
    "version": 3
   },
   "file_extension": ".py",
   "mimetype": "text/x-python",
   "name": "python",
   "nbconvert_exporter": "python",
   "pygments_lexer": "ipython3",
   "version": "3.5.1"
  }
 },
 "nbformat": 4,
 "nbformat_minor": 0
}
